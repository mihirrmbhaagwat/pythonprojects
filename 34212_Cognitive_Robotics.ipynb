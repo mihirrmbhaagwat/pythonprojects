{
 "cells": [
  {
   "cell_type": "code",
   "execution_count": null,
   "metadata": {},
   "outputs": [],
   "source": []
  },
  {
   "cell_type": "code",
   "execution_count": null,
   "metadata": {},
   "outputs": [],
   "source": []
  },
  {
   "cell_type": "code",
   "execution_count": 2,
   "metadata": {},
   "outputs": [
    {
     "name": "stdout",
     "output_type": "stream",
     "text": [
      "Libraries imported.\n"
     ]
    }
   ],
   "source": [
    "from tensorflow.keras.datasets import cifar10\n",
    "from tensorflow.keras import utils\n",
    "from tensorflow.keras.models import Sequential\n",
    "from tensorflow.keras.layers import Dense, Dropout, Activation, Flatten\n",
    "from tensorflow.keras.layers import Conv2D, MaxPooling2D\n",
    "from tensorflow.keras.optimizers.legacy import SGD, Adam, RMSprop\n",
    "\n",
    "# importing of service libraries\n",
    "import numpy as np\n",
    "import matplotlib.pyplot as plt\n",
    "\n",
    "print('Libraries imported.')"
   ]
  },
  {
   "cell_type": "code",
   "execution_count": 3,
   "metadata": {},
   "outputs": [
    {
     "name": "stdout",
     "output_type": "stream",
     "text": [
      "Main variables initialised.\n"
     ]
    }
   ],
   "source": [
    "#training constants\n",
    "BATCH_SIZE = 128\n",
    "N_EPOCH = 20 # use 20 for best initial results\n",
    "N_CLASSES = 10\n",
    "VERBOSE = 1\n",
    "VALIDATION_SPLIT = 0.2\n",
    "OPTIM = RMSprop()\n",
    "\n",
    "print('Main variables initialised.')"
   ]
  },
  {
   "cell_type": "code",
   "execution_count": 4,
   "metadata": {},
   "outputs": [
    {
     "name": "stdout",
     "output_type": "stream",
     "text": [
      "Image variables initialisation\n"
     ]
    }
   ],
   "source": [
    "# CIFAR_10 is a set of 60K images 32x32 pixels on 3 channels\n",
    "IMG_CHANNELS = 3\n",
    "IMG_ROWS = 32\n",
    "IMG_COLS = 32\n",
    "\n",
    "print('Image variables initialisation')"
   ]
  },
  {
   "cell_type": "code",
   "execution_count": 5,
   "metadata": {},
   "outputs": [
    {
     "name": "stdout",
     "output_type": "stream",
     "text": [
      "input_X_train shape: (50000, 32, 32, 3)\n",
      "50000 train samples\n",
      "10000 test samples\n"
     ]
    }
   ],
   "source": [
    "#load dataset\n",
    "(input_X_train, output_y_train), (input_X_test, output_y_test) = cifar10.load_data()\n",
    "print('input_X_train shape:', input_X_train.shape)\n",
    "print(input_X_train.shape[0], 'train samples')\n",
    "print(input_X_test.shape[0], 'test samples')\n",
    " \n",
    "# convert to categorical\n",
    "output_Y_train = utils.to_categorical(output_y_train, N_CLASSES)\n",
    "output_Y_test = utils.to_categorical(output_y_test, N_CLASSES) \n",
    "\n",
    "# float and normalization\n",
    "input_X_train = input_X_train.astype('float32')\n",
    "input_X_test = input_X_test.astype('float32')\n",
    "input_X_train /= 255\n",
    "input_X_test /= 255"
   ]
  },
  {
   "cell_type": "code",
   "execution_count": 6,
   "metadata": {},
   "outputs": [
    {
     "name": "stdout",
     "output_type": "stream",
     "text": [
      "Model: \"sequential\"\n",
      "_________________________________________________________________\n",
      " Layer (type)                Output Shape              Param #   \n",
      "=================================================================\n",
      " flatten (Flatten)           (None, 3072)              0         \n",
      "                                                                 \n",
      " dense (Dense)               (None, 128)               393344    \n",
      "                                                                 \n",
      " activation (Activation)     (None, 128)               0         \n",
      "                                                                 \n",
      " dense_1 (Dense)             (None, 128)               16512     \n",
      "                                                                 \n",
      " activation_1 (Activation)   (None, 128)               0         \n",
      "                                                                 \n",
      " dense_2 (Dense)             (None, 10)                1290      \n",
      "                                                                 \n",
      " activation_2 (Activation)   (None, 10)                0         \n",
      "                                                                 \n",
      "=================================================================\n",
      "Total params: 411146 (1.57 MB)\n",
      "Trainable params: 411146 (1.57 MB)\n",
      "Non-trainable params: 0 (0.00 Byte)\n",
      "_________________________________________________________________\n"
     ]
    }
   ],
   "source": [
    "RESHAPED = 3072\n",
    "N_EPOCH = 40\n",
    "N_HIDDEN = 128\n",
    "\n",
    "model = Sequential()\n",
    "optimizer = SGD()\n",
    "\n",
    "model.add(Flatten(input_shape=(32, 32, 3)))\n",
    "# Hidden layer 1 with 128 hidden units and ReLu activation function\n",
    "model.add(Dense(N_HIDDEN))\n",
    "model.add(Activation('relu'))\n",
    "# Hidden layer 2 with 128 hidden units and ReLu activation function\n",
    "model.add(Dense(N_HIDDEN))\n",
    "model.add(Activation('relu'))\n",
    "# output layer with 100 units and softmax activation\n",
    "model.add(Dense(N_CLASSES))\n",
    "model.add(Activation('softmax'))\n",
    "\n",
    "model.summary()\n",
    "model.compile(loss='categorical_crossentropy', optimizer=optimizer, metrics=['accuracy'])"
   ]
  },
  {
   "cell_type": "code",
   "execution_count": 7,
   "metadata": {},
   "outputs": [
    {
     "name": "stdout",
     "output_type": "stream",
     "text": [
      "Epoch 1/20\n",
      "313/313 [==============================] - 4s 10ms/step - loss: 2.0724 - accuracy: 0.2545 - val_loss: 1.9438 - val_accuracy: 0.3167\n",
      "Epoch 2/20\n",
      "313/313 [==============================] - 3s 11ms/step - loss: 1.8856 - accuracy: 0.3335 - val_loss: 1.8825 - val_accuracy: 0.3370\n",
      "Epoch 3/20\n",
      "313/313 [==============================] - 3s 9ms/step - loss: 1.8136 - accuracy: 0.3623 - val_loss: 1.8174 - val_accuracy: 0.3641\n",
      "Epoch 4/20\n",
      "313/313 [==============================] - 2s 6ms/step - loss: 1.7664 - accuracy: 0.3789 - val_loss: 1.7932 - val_accuracy: 0.3706\n",
      "Epoch 5/20\n",
      "313/313 [==============================] - 2s 6ms/step - loss: 1.7244 - accuracy: 0.3947 - val_loss: 1.7954 - val_accuracy: 0.3604\n",
      "Epoch 6/20\n",
      "313/313 [==============================] - 2s 5ms/step - loss: 1.6942 - accuracy: 0.4057 - val_loss: 1.7241 - val_accuracy: 0.3908\n",
      "Epoch 7/20\n",
      "313/313 [==============================] - 2s 6ms/step - loss: 1.6667 - accuracy: 0.4144 - val_loss: 1.6974 - val_accuracy: 0.4064\n",
      "Epoch 8/20\n",
      "313/313 [==============================] - 1s 5ms/step - loss: 1.6439 - accuracy: 0.4233 - val_loss: 1.6716 - val_accuracy: 0.4204\n",
      "Epoch 9/20\n",
      "313/313 [==============================] - 2s 5ms/step - loss: 1.6255 - accuracy: 0.4269 - val_loss: 1.6714 - val_accuracy: 0.4080\n",
      "Epoch 10/20\n",
      "313/313 [==============================] - 2s 5ms/step - loss: 1.6061 - accuracy: 0.4365 - val_loss: 1.6556 - val_accuracy: 0.4162\n",
      "Epoch 11/20\n",
      "313/313 [==============================] - 2s 5ms/step - loss: 1.5864 - accuracy: 0.4406 - val_loss: 1.6282 - val_accuracy: 0.4341\n",
      "Epoch 12/20\n",
      "313/313 [==============================] - 2s 5ms/step - loss: 1.5718 - accuracy: 0.4470 - val_loss: 1.6631 - val_accuracy: 0.4156\n",
      "Epoch 13/20\n",
      "313/313 [==============================] - 2s 5ms/step - loss: 1.5588 - accuracy: 0.4523 - val_loss: 1.6317 - val_accuracy: 0.4271\n",
      "Epoch 14/20\n",
      "313/313 [==============================] - 1s 5ms/step - loss: 1.5471 - accuracy: 0.4568 - val_loss: 1.6191 - val_accuracy: 0.4345\n",
      "Epoch 15/20\n",
      "313/313 [==============================] - 1s 5ms/step - loss: 1.5343 - accuracy: 0.4618 - val_loss: 1.6124 - val_accuracy: 0.4347\n",
      "Epoch 16/20\n",
      "313/313 [==============================] - 2s 5ms/step - loss: 1.5251 - accuracy: 0.4626 - val_loss: 1.6120 - val_accuracy: 0.4360\n",
      "Epoch 17/20\n",
      "313/313 [==============================] - 2s 5ms/step - loss: 1.5082 - accuracy: 0.4690 - val_loss: 1.6122 - val_accuracy: 0.4325\n",
      "Epoch 18/20\n",
      "313/313 [==============================] - 2s 6ms/step - loss: 1.4986 - accuracy: 0.4724 - val_loss: 1.5956 - val_accuracy: 0.4381\n",
      "Epoch 19/20\n",
      "313/313 [==============================] - 1s 5ms/step - loss: 1.4874 - accuracy: 0.4784 - val_loss: 1.5996 - val_accuracy: 0.4369\n",
      "Epoch 20/20\n",
      "313/313 [==============================] - 2s 5ms/step - loss: 1.4745 - accuracy: 0.4825 - val_loss: 1.5624 - val_accuracy: 0.4523\n"
     ]
    }
   ],
   "source": [
    "history = model.fit(input_X_train, output_Y_train, batch_size=BATCH_SIZE, epochs=20, verbose=VERBOSE, validation_split=VALIDATION_SPLIT)"
   ]
  },
  {
   "cell_type": "code",
   "execution_count": 8,
   "metadata": {},
   "outputs": [
    {
     "name": "stdout",
     "output_type": "stream",
     "text": [
      "79/79 [==============================] - 0s 3ms/step - loss: 1.5308 - accuracy: 0.4526\n",
      "\n",
      "Test score/loss: 1.530838131904602\n",
      "Test accuracy: 0.45260000228881836\n",
      "dict_keys(['loss', 'accuracy', 'val_loss', 'val_accuracy'])\n"
     ]
    },
    {
     "data": {
      "image/png": "[encoded data removed]",
      "text/plain": [
       "<Figure size 432x288 with 1 Axes>"
      ]
     },
     "metadata": {
      "needs_background": "light"
     },
     "output_type": "display_data"
    },
    {
     "data": {
      "image/png": "[encoded data removed]",
      "text/plain": [
       "<Figure size 432x288 with 1 Axes>"
      ]
     },
     "metadata": {
      "needs_background": "light"
     },
     "output_type": "display_data"
    }
   ],
   "source": [
    "score = model.evaluate(input_X_test, output_Y_test, batch_size=BATCH_SIZE, verbose=VERBOSE)\n",
    "print(\"\\nTest score/loss:\", score[0])\n",
    "print('Test accuracy:', score[1])\n",
    "\n",
    "# list all data in history\n",
    "print(history.history.keys())\n",
    "\n",
    "# summarize history for accuracy\n",
    "#plt.plot(mo)\n",
    "plt.plot(history.history['accuracy'])\n",
    "plt.plot(history.history['val_accuracy'])\n",
    "plt.title('model accuracy')\n",
    "plt.ylabel('accuracy')\n",
    "plt.xlabel('epoch')\n",
    "plt.legend(['train', 'test'], loc='upper left')\n",
    "plt.show()\n",
    "\n",
    "# summarize history for loss\n",
    "plt.plot(history.history['loss'])\n",
    "plt.plot(history.history['val_loss'])\n",
    "plt.title('model loss')\n",
    "plt.ylabel('loss')\n",
    "plt.xlabel('epoch')\n",
    "plt.legend(['train', 'test'], loc='upper left')\n",
    "plt.show()"
   ]
  },
  {
   "cell_type": "code",
   "execution_count": null,
   "metadata": {},
   "outputs": [
    {
     "name": "stdout",
     "output_type": "stream",
     "text": [
      "Model: \"sequential_1\"\n",
      "_________________________________________________________________\n",
      " Layer (type)                Output Shape              Param #   \n",
      "=================================================================\n",
      " flatten_1 (Flatten)         (None, 3072)              0         \n",
      "                                                                 \n",
      " dense_3 (Dense)             (None, 128)               393344    \n",
      "                                                                 \n",
      " activation_3 (Activation)   (None, 128)               0         \n",
      "                                                                 \n",
      " dense_4 (Dense)             (None, 128)               16512     \n",
      "                                                                 \n",
      " activation_4 (Activation)   (None, 128)               0         \n",
      "                                                                 \n",
      " dense_5 (Dense)             (None, 10)                1290      \n",
      "                                                                 \n",
      " activation_5 (Activation)   (None, 10)                0         \n",
      "                                                                 \n",
      "=================================================================\n",
      "Total params: 411146 (1.57 MB)\n",
      "Trainable params: 411146 (1.57 MB)\n",
      "Non-trainable params: 0 (0.00 Byte)\n",
      "_________________________________________________________________\n"
     ]
    }
   ],
   "source": [
    "model = Sequential()\n",
    "optimizer = SGD()\n",
    "\n",
    "model.add(Flatten(input_shape=(32, 32, 3)))\n",
    "# Hidden layer 1 with 128 hidden units and ReLu activation function\n",
    "model.add(Dense(N_HIDDEN))\n",
    "model.add(Activation('relu'))\n",
    "# Hidden layer 2 with 128 hidden units and ReLu activation function\n",
    "model.add(Dense(N_HIDDEN))\n",
    "model.add(Activation('relu'))\n",
    "# output layer with 100 units and softmax activation\n",
    "model.add(Dense(N_CLASSES))\n",
    "model.add(Activation('softmax'))\n",
    "\n",
    "model.summary()\n",
    "model.compile(loss='categorical_crossentropy', optimizer=optimizer, metrics=['accuracy'])#train the network\n",
    "history = model.fit(input_X_train, output_Y_train, batch_size=32, epochs=20, verbose=VERBOSE, validation_split=VALIDATION_SPLIT)"
   ]
  },
  {
   "cell_type": "code",
   "execution_count": null,
   "metadata": {},
   "outputs": [],
   "source": []
  },
  {
   "cell_type": "code",
   "execution_count": null,
   "metadata": {},
   "outputs": [],
   "source": []
  },
  {
   "cell_type": "code",
   "execution_count": 6,
   "metadata": {},
   "outputs": [],
   "source": [
    "N_EPOCH = 3"
   ]
  },
  {
   "cell_type": "code",
   "execution_count": 7,
   "metadata": {},
   "outputs": [],
   "source": [
    "model = Sequential()\n",
    "model.add(Conv2D(filters=6, strides=1, kernel_size=(5,5), padding='valid', activation='relu', input_shape=(IMG_ROWS, IMG_COLS, IMG_CHANNELS)))\n",
    "model.add(MaxPooling2D(pool_size=2, strides=2))\n",
    "model.add(Dropout(0.25))\n",
    "model.add(Conv2D(filters=16, strides=1, kernel_size=(5,5), padding='valid', activation='relu'))\n",
    "model.add(MaxPooling2D(pool_size=2, strides=2))\n",
    "model.add(Flatten())\n",
    "model.add(Dense(120, activation='relu'))\n",
    "model.add(Dropout(0.5))\n",
    "model.add(Dense(84, activation='relu'))\n",
    "model.add(Dense(10, activation='softmax'))"
   ]
  },
  {
   "cell_type": "code",
   "execution_count": null,
   "metadata": {},
   "outputs": [],
   "source": []
  },
  {
   "cell_type": "code",
   "execution_count": null,
   "metadata": {},
   "outputs": [],
   "source": []
  },
  {
   "cell_type": "code",
   "execution_count": 9,
   "metadata": {},
   "outputs": [],
   "source": []
  },
  {
   "cell_type": "code",
   "execution_count": 8,
   "metadata": {},
   "outputs": [],
   "source": [
    "# compile the model\n",
    "model.compile(loss='categorical_crossentropy', optimizer=OPTIM, metrics=['accuracy'])\n",
    "\n",
    "model2.compile(loss='categorical_crossentropy', optimizer=OPTIM, metrics=['accuracy'])\n",
    "model3.compile(loss='categorical_crossentropy', optimizer=OPTIM, metrics=['accuracy'])\n",
    "print(model.summary())\n",
    "print(model1.summary())\n",
    "print(model2.summary())\n",
    "print(model3.summary())\n"
   ]
  },
  {
   "cell_type": "code",
   "execution_count": 9,
   "metadata": {},
   "outputs": [
    {
     "name": "stdout",
     "output_type": "stream",
     "text": [
      "Epoch 1/3\n",
      "313/313 [==============================] - 20s 61ms/step - loss: 1.9785 - accuracy: 0.2624 - val_loss: 1.7241 - val_accuracy: 0.3814\n",
      "Epoch 2/3\n",
      "313/313 [==============================] - 19s 61ms/step - loss: 1.7329 - accuracy: 0.3638 - val_loss: 1.6513 - val_accuracy: 0.3976\n",
      "Epoch 3/3\n",
      "313/313 [==============================] - 17s 53ms/step - loss: 1.6325 - accuracy: 0.4065 - val_loss: 1.6108 - val_accuracy: 0.4143\n"
     ]
    }
   ],
   "source": [
    "# Sequential training of models\n",
    "history = model.fit(input_X_train, output_Y_train, batch_size=BATCH_SIZE, epochs=N_EPOCH, validation_split=VALIDATION_SPLIT,  verbose=VERBOSE)\n",
    "\n"
   ]
  },
  {
   "cell_type": "code",
   "execution_count": 10,
   "metadata": {},
   "outputs": [
    {
     "ename": "NameError",
     "evalue": "name 'model1' is not defined",
     "output_type": "error",
     "traceback": [
      "\u001b[0;31m---------------------------------------------------------------------------\u001b[0m",
      "\u001b[0;31mNameError\u001b[0m                                 Traceback (most recent call last)",
      "\u001b[0;32m<ipython-input-10-653209334c0e>\u001b[0m in \u001b[0;36m<module>\u001b[0;34m\u001b[0m\n\u001b[0;32m----> 1\u001b[0;31m \u001b[0mmodel1\u001b[0m\u001b[0;34m.\u001b[0m\u001b[0mcompile\u001b[0m\u001b[0;34m(\u001b[0m\u001b[0mloss\u001b[0m\u001b[0;34m=\u001b[0m\u001b[0;34m'categorical_crossentropy'\u001b[0m\u001b[0;34m,\u001b[0m \u001b[0moptimizer\u001b[0m\u001b[0;34m=\u001b[0m\u001b[0mOPTIM\u001b[0m\u001b[0;34m,\u001b[0m \u001b[0mmetrics\u001b[0m\u001b[0;34m=\u001b[0m\u001b[0;34m[\u001b[0m\u001b[0;34m'accuracy'\u001b[0m\u001b[0;34m]\u001b[0m\u001b[0;34m)\u001b[0m\u001b[0;34m\u001b[0m\u001b[0;34m\u001b[0m\u001b[0m\n\u001b[0m",
      "\u001b[0;31mNameError\u001b[0m: name 'model1' is not defined"
     ]
    }
   ],
   "source": []
  },
  {
   "cell_type": "code",
   "execution_count": 11,
   "metadata": {},
   "outputs": [],
   "source": [
    "model1 = Sequential()\n",
    "model1.add(Conv2D(filters=6, strides=1, kernel_size=(3,3), padding='valid', activation='relu', input_shape=(IMG_ROWS, IMG_COLS, IMG_CHANNELS)))\n",
    "model1.add(MaxPooling2D(pool_size=2, strides=2))\n",
    "model1.add(Dropout(0.25))\n",
    "model1.add(Conv2D(filters=16, strides=1, kernel_size=(3,3), padding='valid', activation='relu'))\n",
    "model1.add(MaxPooling2D(pool_size=2, strides=2))\n",
    "model1.add(Flatten())\n",
    "model1.add(Dense(120, activation='relu'))\n",
    "model1.add(Dropout(0.5))\n",
    "model1.add(Dense(84, activation='relu'))\n",
    "model1.add(Dense(10, activation='softmax'))\n",
    "model1.compile(loss='categorical_crossentropy', optimizer=OPTIM, metrics=['accuracy'])"
   ]
  },
  {
   "cell_type": "code",
   "execution_count": null,
   "metadata": {},
   "outputs": [],
   "source": [
    "history1 = model1.fit(input_X_train, output_Y_train, batch_size=BATCH_SIZE, epochs=N_EPOCH, validation_split=VALIDATION_SPLIT,  verbose=VERBOSE)\n",
    "\n"
   ]
  },
  {
   "cell_type": "code",
   "execution_count": null,
   "metadata": {},
   "outputs": [],
   "source": [
    "# larger strides\n",
    "model2 = Sequential()\n",
    "model2.add(Conv2D(filters=6, strides=2, kernel_size=(5,5), padding='valid', activation='relu', input_shape=(IMG_ROWS, IMG_COLS, IMG_CHANNELS)))\n",
    "model2.add(MaxPooling2D(pool_size=2, strides=2))\n",
    "model2.add(Dropout(0.25))\n",
    "model2.add(Conv2D(filters=16, strides=2, kernel_size=(5,5), padding='valid', activation='relu'))\n",
    "model2.add(MaxPooling2D(pool_size=2, strides=2))\n",
    "model2.add(Flatten())\n",
    "model2.add(Dense(120, activation='relu'))\n",
    "model2.add(Dropout(0.5))\n",
    "model2.add(Dense(84, activation='relu'))\n",
    "model2.add(Dense(10, activation='softmax'))"
   ]
  },
  {
   "cell_type": "code",
   "execution_count": null,
   "metadata": {},
   "outputs": [],
   "source": [
    "history2 = model2.fit(input_X_train, output_Y_train, batch_size=BATCH_SIZE, epochs=N_EPOCH, validation_split=VALIDATION_SPLIT,  verbose=VERBOSE)\n"
   ]
  },
  {
   "cell_type": "code",
   "execution_count": null,
   "metadata": {},
   "outputs": [],
   "source": [
    "# more filters\n",
    "model3 = Sequential()\n",
    "model3.add(Conv2D(filters=32, strides=1, kernel_size=(5,5), padding='valid', activation='relu', input_shape=(IMG_ROWS, IMG_COLS, IMG_CHANNELS)))\n",
    "model3.add(MaxPooling2D(pool_size=2, strides=2))\n",
    "model3.add(Dropout(0.25))\n",
    "model3.add(Conv2D(filters=48, strides=1, kernel_size=(5,5), padding='valid', activation='relu'))\n",
    "model3.add(MaxPooling2D(pool_size=2, strides=2))\n",
    "model3.add(Flatten())\n",
    "model3.add(Dense(256, activation='relu'))\n",
    "model3.add(Dropout(0.5))\n",
    "model3.add(Dense(84, activation='relu'))\n",
    "model3.add(Dense(10, activation='softmax'))"
   ]
  },
  {
   "cell_type": "code",
   "execution_count": null,
   "metadata": {},
   "outputs": [],
   "source": [
    "history3 = model3.fit(input_X_train, output_Y_train, batch_size=BATCH_SIZE, epochs=N_EPOCH, validation_split=VALIDATION_SPLIT,  verbose=VERBOSE)"
   ]
  },
  {
   "cell_type": "code",
   "execution_count": null,
   "metadata": {},
   "outputs": [],
   "source": [
    "# training/fitting of the DNN model\n",
    "history = model.fit(input_X_train, output_Y_train, batch_size=BATCH_SIZE, epochs=N_EPOCH, validation_split=VALIDATION_SPLIT,  verbose=VERBOSE)\n",
    "history1 = model1.fit(input_X_train, output_Y_train, batch_size=BATCH_SIZE, epochs=N_EPOCH, validation_split=VALIDATION_SPLIT,  verbose=VERBOSE)\n",
    "history2 = model2.fit(input_X_train, output_Y_train, batch_size=BATCH_SIZE, epochs=N_EPOCH, validation_split=VALIDATION_SPLIT,  verbose=VERBOSE)\n",
    "history3 = model3.fit(input_X_train, output_Y_train, batch_size=BATCH_SIZE, epochs=N_EPOCH, validation_split=VALIDATION_SPLIT,  verbose=VERBOSE)\n",
    "\n",
    "score = model.evaluate(input_X_test, output_Y_test, batch_size=BATCH_SIZE, verbose=VERBOSE)\n",
    "\n",
    "\n",
    "print(\"\\nTest score/loss:\", score[0])\n",
    "print('Test accuracy:', score[1])\n",
    "\n",
    "# list all data in history\n",
    "print(history.history.keys())\n",
    "\n",
    "# summarize history for accuracy\n",
    "#plt.plot(mo)\n",
    "plt.plot(history.history['accuracy'])\n",
    "plt.plot(history.history['val_accuracy'])\n",
    "plt.title('model accuracy')\n",
    "plt.ylabel('accuracy')\n",
    "plt.xlabel('epoch')\n",
    "plt.legend(['train', 'test'], loc='upper left')\n",
    "plt.show()\n",
    "\n",
    "# summarize history for loss\n",
    "plt.plot(history.history['loss'])\n",
    "plt.plot(history.history['val_loss'])\n",
    "plt.title('model loss')\n",
    "plt.ylabel('loss')\n",
    "plt.xlabel('epoch')\n",
    "plt.legend(['train', 'test'], loc='upper left')\n",
    "plt.show()"
   ]
  },
  {
   "cell_type": "code",
   "execution_count": null,
   "metadata": {},
   "outputs": [],
   "source": []
  },
  {
   "cell_type": "code",
   "execution_count": null,
   "metadata": {},
   "outputs": [],
   "source": []
  }
 ],
 "metadata": {
  "kernelspec": {
   "display_name": "Python 3",
   "language": "python",
   "name": "python3"
  },
  "language_info": {
   "codemirror_mode": {
    "name": "ipython",
    "version": 3
   },
   "file_extension": ".py",
   "mimetype": "text/x-python",
   "name": "python",
   "nbconvert_exporter": "python",
   "pygments_lexer": "ipython3",
   "version": "3.8.10"
  }
 },
 "nbformat": 4,
 "nbformat_minor": 4
}
